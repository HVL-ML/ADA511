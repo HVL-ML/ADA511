{
 "cells": [
  {
   "cell_type": "code",
   "execution_count": 4,
   "id": "b9b7752f-269e-489b-8c52-fd353171a0c6",
   "metadata": {},
   "outputs": [
    {
     "data": {
      "text/html": [
       "0.903296499504866"
      ],
      "text/latex": [
       "0.903296499504866"
      ],
      "text/markdown": [
       "0.903296499504866"
      ],
      "text/plain": [
       "[1] 0.903296"
      ]
     },
     "metadata": {},
     "output_type": "display_data"
    }
   ],
   "source": [
    "gamma(1.67)"
   ]
  },
  {
   "cell_type": "code",
   "execution_count": null,
   "id": "0968f50f-0b82-4d30-bbd7-291199ee6377",
   "metadata": {},
   "outputs": [],
   "source": []
  }
 ],
 "metadata": {
  "kernelspec": {
   "display_name": "R",
   "language": "R",
   "name": "ir"
  },
  "language_info": {
   "codemirror_mode": "r",
   "file_extension": ".r",
   "mimetype": "text/x-r-source",
   "name": "R",
   "pygments_lexer": "r",
   "version": "4.3.1"
  }
 },
 "nbformat": 4,
 "nbformat_minor": 5
}

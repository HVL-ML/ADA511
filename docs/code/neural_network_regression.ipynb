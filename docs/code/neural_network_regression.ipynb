{
  "nbformat": 4,
  "nbformat_minor": 0,
  "metadata": {
    "colab": {
      "provenance": []
    },
    "kernelspec": {
      "name": "python3",
      "display_name": "Python 3"
    },
    "language_info": {
      "name": "python"
    }
  },
  "cells": [
    {
      "cell_type": "markdown",
      "source": [
        "# Neural network exercises: Regression\n",
        "\n",
        "In this notebook, we will have a quick look at a regression neural network. The exercises are very short, but can be useful just for understanding the basic mechanics of the framework we use. Here we run [Keras](keras.io), which one of the two major ones (the other being [PyTorch](https://pytorch.org/)). You are of course free to use either one."
      ],
      "metadata": {
        "id": "AmRsUCECPhfo"
      }
    },
    {
      "cell_type": "code",
      "source": [
        "# Imports\n",
        "import numpy as np\n",
        "import tensorflow as tf\n",
        "import matplotlib.pyplot as plt"
      ],
      "metadata": {
        "id": "_4NJ3CgjPkKe"
      },
      "execution_count": 1,
      "outputs": []
    },
    {
      "cell_type": "markdown",
      "source": [
        "Gererate and plot some random data."
      ],
      "metadata": {
        "id": "zSUyXIqWSKBG"
      }
    },
    {
      "cell_type": "code",
      "source": [
        "rng = np.random.default_rng()\n",
        "\n",
        "def random_data(num_samples=120):\n",
        "    x = rng.uniform(0, 2*np.pi, size=num_samples)\n",
        "    y = np.sin(x) + rng.normal(size=num_samples, scale=0.1)\n",
        "\n",
        "    x = np.expand_dims(x, axis=1)\n",
        "    y = np.expand_dims(y, axis=1)\n",
        "    return x, y\n",
        "\n",
        "\n",
        "X, Y = random_data()\n",
        "plt.scatter(X, Y)"
      ],
      "metadata": {
        "colab": {
          "base_uri": "https://localhost:8080/",
          "height": 447
        },
        "id": "7Nio345MPpjN",
        "outputId": "8a4bba42-c853-40ea-a1b8-36ef6e6f173d"
      },
      "execution_count": 2,
      "outputs": [
        {
          "output_type": "execute_result",
          "data": {
            "text/plain": [
              "<matplotlib.collections.PathCollection at 0x7d27d341a110>"
            ]
          },
          "metadata": {},
          "execution_count": 2
        },
        {
          "output_type": "display_data",
          "data": {
            "text/plain": [
              "<Figure size 640x480 with 1 Axes>"
            ],
            "image/png": "[encoded data removed]"
          },
          "metadata": {}
        }
      ]
    },
    {
      "cell_type": "markdown",
      "source": [
        "## Activation functions\n",
        "\n",
        "Let's investigate the impact of selecting different activation functions. This snippet makes a plot of three common ones -- for more, have a look at https://keras.io/api/layers/activations/."
      ],
      "metadata": {
        "id": "7IuBKknUPyJg"
      }
    },
    {
      "cell_type": "code",
      "source": [
        "relu = tf.keras.activations.relu\n",
        "tanh = tf.keras.activations.tanh\n",
        "softplus = tf.keras.activations.softplus\n",
        "\n",
        "x_activ = np.linspace(-3, 3, 100)\n",
        "plt.figure()\n",
        "\n",
        "for activ_func in [relu, tanh, softplus]:\n",
        "    plt.plot(x_activ, activ_func(x_activ), label=activ_func.__name__)\n",
        "\n",
        "plt.legend()"
      ],
      "metadata": {
        "id": "njipm8U_Pw6S"
      },
      "execution_count": null,
      "outputs": []
    },
    {
      "cell_type": "markdown",
      "source": [
        "Train a simple regression model, like the one we saw in lectures. We use `Dense` layers, which are just the \"ordinary\" ones. If we want to process images or text, we need different types of layers."
      ],
      "metadata": {
        "id": "yMIrhc-KPwkH"
      }
    },
    {
      "cell_type": "code",
      "source": [
        "# This is the model specification. We have two hidden layers, with ten nodes each.\n",
        "# To predict a single value, we need a single node in the output layer.\n",
        "model = tf.keras.Sequential(\n",
        "    [\n",
        "        tf.keras.layers.Dense(10, activation=tanh),     # modify here\n",
        "        tf.keras.layers.Dense(10, activation=tanh),     # modify here\n",
        "        tf.keras.layers.Dense(1, activation=None)       # for regression, don't apply activation in last layer\n",
        "    ]\n",
        ")\n",
        "\n",
        "# Compile the model. Necessary for the framework to figure out the computation graph\n",
        "model.compile(\n",
        "    loss='mse', # Loss function: mean squared error\n",
        "    optimizer=tf.keras.optimizers.Adam(learning_rate=0.01)\n",
        ")\n",
        "\n",
        "# The training step. `epochs` indicate the numer of iterations.\n",
        "model.fit(X, Y, epochs=250, verbose=0)\n",
        "\n",
        "# Plot the training data\n",
        "plt.scatter(X, Y)\n",
        "\n",
        "# Plot the predicted function, by making a grid og x-values and predicting the\n",
        "# y-value for each of them\n",
        "x_grid = np.linspace(0, 2*np.pi, num=200)[:, np.newaxis]\n",
        "preds = model.predict(x_grid)\n",
        "plt.plot(x_grid, preds, color=\"darkorange\", linewidth=2)"
      ],
      "metadata": {
        "id": "WPvHGbRuQaaf"
      },
      "execution_count": null,
      "outputs": []
    },
    {
      "cell_type": "markdown",
      "source": [
        "## Exercise 1\n",
        "\n",
        "Change the activation functions above, and see of the prediction line changes.\n",
        "\n",
        "## Exercise 2\n",
        "Vary the number of epochs, and see if a low number of iterations results in underfitting, and if a large number results in overfitting.\n",
        "\n",
        "## Exercise 3\n",
        "Change the model architure by adding or removing layers and nodes. Again check for under- and overfitting."
      ],
      "metadata": {
        "id": "5xF0Sa1HRN-d"
      }
    }
  ]
}
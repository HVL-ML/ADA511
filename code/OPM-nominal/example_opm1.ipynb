{
 "cells": [
  {
   "cell_type": "markdown",
   "metadata": {},
   "source": [
    "# Example application: adult-income task\n",
    "\n",
    "Please refer to the more annotated https://pglpm.github.io/ADA511/example_opm1.html"
   ]
  },
  {
   "cell_type": "code",
   "execution_count": 1,
   "metadata": {},
   "outputs": [],
   "source": [
    "#| echo: false\n",
    "knitr::opts_knit$set(root.dir = \"code/OPM-nominal/\")"
   ]
  },
  {
   "cell_type": "markdown",
   "metadata": {},
   "source": [
    "Let's illustrate the example workflow described in [§ @sec-opm-workflow] with a toy, but not too simplistic, example, based on the [adult-income dataset](https://archive.ics.uci.edu/dataset/2/adult).\n",
    "\n",
    "\n",
    "All code functions and data files are in the directory\\\n",
    "[https://github.com/pglpm/ADA511/tree/master/code/OPM-nominal](https://github.com/pglpm/ADA511/tree/master/code/OPM-nominal)\n",
    "\n",
    "We start loading the R libraries and functions needed at several stages. You need to have installed^[This is done with the [`install.packages()` function](https://rdrr.io/r/utils/install.packages.html).] the packages [*data.table*](https://cran.r-project.org/package=data.table), [*extraDistr*](https://cran.r-project.org/package=extraDistr), [*foreach*](https://cran.r-project.org/package=foreach). Make sure you have saved all source files and data files in the same directory."
   ]
  },
  {
   "cell_type": "code",
   "execution_count": null,
   "metadata": {},
   "outputs": [],
   "source": [
    "library('data.table')\n",
    "library('extraDistr')\n",
    "library('foreach')\n",
    "\n",
    "source('tplotfunctions.R')\n",
    "source('guessmetadata.R')\n",
    "source('buildagent.R')\n",
    "source('infer.R')\n",
    "source('decide.R')\n",
    "source('mutualinfo.R')\n",
    "source('rF.R')\n",
    "source('plotFsamples1D.R')\n",
    "\n",
    "## Modify '10' below if the plots are too large or too small\n",
    "options(repr.plot.width=10*sqrt(2), repr.plot.height=10)"
   ]
  },
  {
   "cell_type": "markdown",
   "metadata": {},
   "source": [
    "\\\n",
    "\n",
    "## Define the task\n",
    "\n",
    "The main task is to infer whether a USA citizen earns less (≤) or more (>) than USD 50 000/year, given a set of characteristics of that citizen. In view of later workflow stages, let's note a couple of known and unknown facts to delimit this task in a more precise manner:\n",
    "\n",
    "- Given the flexibility of the agent we shall use, we can generalize the task: to infer any subset of the set of characteristics, given any other subset. In other words, we can choose the predictand and predictor variates for any new citizen. Later on we shall also extend the task to making a concrete decision, based on utilities relevant to that citizen.\n",
    "    \n",
    "\tThis flexibility is also convenient because no explanation is given as to *what purpose* the income should be guessed.\n",
    "\n",
    "- The training data come from a 1994 census, and our agent will use an exchangeable belief distribution about the population. The value of the USD and the economic situation of the country changes from year to year, as  well as the informational relationships between economic and demographic factors. For this reason the agent should be used to draw inferences about at most one or two years around 1994. Beyond such time range the exchangeability assumption is too dubious and risky.\n",
    "\n",
    "- The [USA population in 1994 was around 260 000 000](https://www.macrotrends.net/countries/USA/united-states/population), and we shall use around 11 000 training data. The population size can therefore be considered approximately infinite.\n",
    "\n",
    "\\\n",
    "\n",
    "## Collect & prepare background info\n",
    "\n",
    "### Variates and domains\n",
    "\n",
    "The variates to be used must be of nominal type, because our agent's background beliefs (represented by the Dirichlet-mixture distribution) are only appropriate for nominal variates. In this toy example we simply discard all original non-nominal variates. These included some, such as age, that would surely be relevant for this task. As a different approach, we could have coarsened each non-nominal variate into three or four range values, so that treating it as nominal would have been an acceptable approximation.\n",
    "\n",
    "First, create a preliminary metadata file by running the function `guessmetadata()` on the training data [`train-income_data_example.csv`](https://github.com/pglpm/ADA511/blob/master/code/OPM-nominal/train-income_data_example.csv):"
   ]
  },
  {
   "cell_type": "code",
   "execution_count": null,
   "metadata": {},
   "outputs": [],
   "source": [
    "guessmetadata(data='train-income_data_example.csv',\n",
    "              file='preliminary.csv')"
   ]
  },
  {
   "cell_type": "markdown",
   "metadata": {},
   "source": [
    "Inspect the resulting file `preliminary.csv` and check whether you can alter it to add additional background information.\n",
    "\n",
    "As an example, note that domain of the $\\mathit{native\\_country}$ variate does not include $\\verb|Norway|$ or $\\verb|Netherlands|$. Yet it's extremely likely that there were some native Norwegian or Dutch USA citizens in 1994; maybe too few to have been sampled into the training data. Let's add these two values to the list of domain values, and increase the domain size of $\\mathit{native\\_country}$ from 40 to 42. The resulting, updated metadata file has already been saved as [`meta_income_data_example.csv`](https://github.com/pglpm/ADA511/blob/master/code/OPM-nominal/meta_income_data_example.csv).\n",
    "\n",
    "### Agent's parameters $k_{mi}, k_{ma}$\n",
    "\n",
    "How many data should the agent learn in order to appreciably change its initial beliefs about the variates above, for the USA 1994 population? Let's put an upper bound at around 1 000 000 (that's roughly 0.5% of the whole population) with $k_{ma}=20$, and a lower bound at 1 with $k_{mi}=0$; these are the default values. We shall see later what the agent suggests might be a reasonable amount of training data.\n",
    "\n",
    "\\\n",
    "\n",
    "## Collect & prepare training data\n",
    "\n",
    "The 11 306 training data have been prepared by including only nominal variates, and discarding datapoints with partially missing data (although the function `buildagent()` discards such incomplete datapoints automatically). The resulting file is [`test-income_data_example.csv`](https://github.com/pglpm/ADA511/blob/master/code/OPM-nominal/test-income_data_example.csv).\n",
    "\n",
    "\\\n",
    "\n",
    "## Prepare OPM agent\n",
    "\n",
    "For the sake of this example we shall prepare two agents with the same background information:\n",
    "\n",
    "- `opm10`, trained with 10 training datapoints\n",
    "\n",
    "- `opmall`, trained with all 11 306 training datapoints\n",
    "\n",
    "Prepare and train each with the `buildagent()` function:"
   ]
  },
  {
   "cell_type": "code",
   "execution_count": null,
   "metadata": {},
   "outputs": [],
   "source": [
    "## temporarily load all training data\n",
    "traindata <- fread('train-income_data_example.csv', header=TRUE)\n",
    "\n",
    "## feed first 10 datapoints to an agent\n",
    "opm10 <- buildagent(metadata='meta_income_data_example.csv',\n",
    "                    data=traindata[1:10])\n",
    "\n",
    "## delete training data for memory efficiency\n",
    "rm(traindata)\n",
    "\n",
    "\n",
    "opmall <- buildagent(metadata='meta_income_data_example.csv',\n",
    "                     data='train-income_data_example.csv')"
   ]
  },
  {
   "cell_type": "markdown",
   "metadata": {},
   "source": [
    "\\\n",
    "\n",
    "We can peek into the internal structure of these \"agent objects\" with `str()`"
   ]
  },
  {
   "cell_type": "code",
   "execution_count": null,
   "metadata": {},
   "outputs": [],
   "source": [
    "str(opmall)"
   ]
  },
  {
   "cell_type": "markdown",
   "metadata": {},
   "source": [
    "this shows that each agent is encoded as a list of four objects:\n",
    "\n",
    "- the array `counts`, containing the counts $\\green\\# z$\n",
    "- the vector `alphas`, containing the values of $2^k$\n",
    "- the vector `auxalphas`, containing the (logarithm of) the multiplicative factors ([§ @sec-code-computations])\n",
    "- the vector `palphas`, containing the updated probabilities about the required amount of training data\n",
    "\n",
    "The agent has internally guessed how many training data should be necessary to affect its prior beliefs. We can peek at its guess by plotting the `alphas` parameters against the `palphas` probabilities:"
   ]
  },
  {
   "cell_type": "code",
   "execution_count": null,
   "metadata": {},
   "outputs": [],
   "source": [
    "tplot(x=opmall$alphas, y=opmall$palphas, type='b',\n",
    "      xlim=c(0, 10000), ylim=c(0, NA),\n",
    "      xlab='required number of training data', ylab='probability')"
   ]
  },
  {
   "cell_type": "markdown",
   "metadata": {},
   "source": [
    "The most probable amount seems to be of the order of magnitude of 2000 units.\n",
    "\n",
    "Note that you can see the complete list of variates and their domains by simply calling `dimnames(opmall$counts)` (or any relevant agent-object name instead of `opmall`). Here is the beginning of the list:"
   ]
  },
  {
   "cell_type": "code",
   "execution_count": null,
   "metadata": {},
   "outputs": [],
   "source": [
    "head(dimnames(opmall$counts))"
   ]
  },
  {
   "cell_type": "markdown",
   "metadata": {},
   "source": [
    "\\\n",
    "\n",
    "## Application and exploration\n",
    "\n",
    "### Application: only predictands\n",
    "\n",
    "Our two agents are ready to be applied to new instances.\n",
    "\n",
    "Before applying them, let's check some of their inferences, and see if we find anything unconvincing about them. If we find something unconvincing, it means that the background information we provided to the agent doesn't match the one in our intuition. Then there are two or three possibilities: our intuition is misleading us and need correcting; or we need to go back to stage [*Collect & prepare background info*]{.blue} and correct the background information given to the agent; or a combination of these two possibilities.\n",
    "\n",
    "We ask the `opm10` agent to forecast the $\\mathit{income}$ of the next unit, using the `infer()` function:"
   ]
  },
  {
   "cell_type": "code",
   "execution_count": null,
   "metadata": {},
   "outputs": [],
   "source": [
    "infer(agent=opm10, predictand='income')"
   ]
  },
  {
   "cell_type": "markdown",
   "metadata": {},
   "source": [
    "This agent gives a slightly larger probability to the $\\verb|<=50K|$ case. Using the function `plotFsamples1D()` we can also inspect the `opm10`-agent's belief about the frequency distribution of $\\mathit{income}$ for the full population. This belief is represented by a generalized scatter plot of 200 representative frequency distributions, represented as the [grey lines]{.grey}:"
   ]
  },
  {
   "cell_type": "code",
   "execution_count": null,
   "metadata": {},
   "outputs": [],
   "source": [
    "plotFsamples1D(agent=opm10,\n",
    "               n=200, # number of example frequency distributions\n",
    "               predictand='income',\n",
    "               ylim=c(0,1), # y-axis range\n",
    "               main='opm10') # plot title"
   ]
  },
  {
   "cell_type": "markdown",
   "metadata": {},
   "source": [
    "where the [blue line]{.blue} is the probability distribution previously calculated with the `infer()` function.\n",
    "\n",
    "This plot expresses the `opm10`-agent's belief that future training data might lead to even higher probabilities for $\\verb|<=50K|$. But note that the agent is not excluding the possibility of lower probabilities.\n",
    "\n",
    "\n",
    "Let's visualize the beliefs of the `opmall`-agent, trained with the full training dataset:"
   ]
  },
  {
   "cell_type": "code",
   "execution_count": null,
   "metadata": {},
   "outputs": [],
   "source": [
    "plotFsamples1D(agent=opmall, n=200, predictand='income',\n",
    "               ylim=c(0,1), main='opmall')"
   ]
  },
  {
   "cell_type": "markdown",
   "metadata": {},
   "source": [
    "The probability that the next unit has $\\mathit{income}\\mo\\verb|<=50|$ is now above 70%. Also note that the `opmall`-agent doesn't believe that this probability would change appreciably if more training data were provided.\n",
    "\n",
    "\\\n",
    "\n",
    "We can perform a similar exploration for any other variate. Let's take the $\\mathit{race}$ variate for example:\n"
   ]
  },
  {
   "cell_type": "code",
   "execution_count": null,
   "metadata": {},
   "outputs": [],
   "source": [
    "plotFsamples1D(agent=opm10, n=200, predictand='race',\n",
    "               ylim=c(0,1), main='opm10',\n",
    "               cex.axis=0.75) # smaller axis-font size"
   ]
  },
  {
   "cell_type": "markdown",
   "metadata": {},
   "source": [
    "Note again how the little-trained `opm10`-agent has practically uniform beliefs. But it's also expressing the fact that future training data will probably increase the probability of $\\mathit{race}\\mo\\verb|White|$.\n",
    "\n",
    "This is corroborated by the fully-trained agent:\n"
   ]
  },
  {
   "cell_type": "code",
   "execution_count": null,
   "metadata": {},
   "outputs": [],
   "source": [
    "plotFsamples1D(agent=opmall, n=200, predictand='race',\n",
    "               ylim=c(0,1), main='opmall', cex.axis=0.75)"
   ]
  },
  {
   "cell_type": "markdown",
   "metadata": {},
   "source": [
    "\\\n",
    "\n",
    "These checks are satisfying, but it's good to examine their agreement or disagreement with our intuition. Examine the last plot for example. The `opmall` agent has very firm beliefs (no spread in the [grey lines]{.grey}) about the full-population distribution of $\\mathit{race}$. Do you think its beliefs are too firm, after 11 000 datapoints? would you like the agent to be more \"open-minded\"? In that case you should go back to the [*Collect & prepare background info*]{.blue} stage, and for example modify the parameters $k_{mi}, k_{ma}$, then re-check. Or you could even try an agent with a different initial belief distribution.\n",
    "\n",
    "In making this kind of considerations it's important to keep in mind what we learned and observed in previous chapters:\n",
    "\n",
    "\n",
    "#### **Our goal: optimality, not \"success\"**\n",
    "\n",
    "Remember ([§ @sec-optimality] and [§ @sec-probability-def]) that a probability represents the *rational* degree of belief that an agent should have *given the particular information available*. We can't judge a probability from the value it assigns to something we later learn to be true -- because according to the information available it could be more rational (and optimal) to consider that something implausible (recall the example in [§ @sec-probability-def] of an object falling from the sky as we cross the street).\n",
    "\n",
    "From this point of view we should be wary of comparing the probability of something with our a-posteriori knowledge about it.\n",
    "\n",
    "\\\n",
    "\n",
    "#### **The data cannot speak for themselves**\n",
    "\n",
    "We could build an agent that remains more \"open-minded\" (more spread in the [grey lines]{.grey}), having received *exactly the same* training data. This \"open-mindedness\" therefore cannot be determined by the training data. Once more this shows that data *cannot* \"speak for themselves\" ([§ @sec-underlying-distribution]).\n",
    "\n",
    "\n",
    "\n",
    "\\\n",
    "\n",
    "### Application: specifying predictors\n",
    "\n",
    "Let's now draw inferences by specifying some predictors.\n",
    "\n",
    "We ask the `opm10` agent to forecast the $\\mathit{income}$ of a new unit, given that the unit is known to have $\\mathit{occupation}\\mo\\verb|Exec-managerial|$ and $\\mathit{sex}\\mo\\verb|Male|$ (two predictor variates). What would you expect?\n",
    "\n",
    "The `opm10`-agent's belief about the unit -- as well as about the *full subpopulation* ([§ @sec-subpopulations]) of units having those predictors -- is shown in the following plot:"
   ]
  },
  {
   "cell_type": "code",
   "execution_count": null,
   "metadata": {},
   "outputs": [],
   "source": [
    "plotFsamples1D(agent=opm10, n=200,\n",
    "               predictand='income',\n",
    "               predictor=list(occupation='Exec-managerial',\n",
    "                              sex='Male'),\n",
    "               ylim=c(0,1), main='opm10')"
   ]
  },
  {
   "cell_type": "markdown",
   "metadata": {},
   "source": [
    "Note how the `opm10`-agent still slightly higher probability to $\\mathit{income}\\mo\\verb|<=50|$, but at the same time it is quite uncertain about the subpopulation frequencies; more than if the predictor had not been specified. That is, according to this little-trained agent there could be large variety of possibilities *within this specific subpopulation*.\n",
    "\n",
    "The `opmall`-agent's beliefs are shown below:"
   ]
  },
  {
   "cell_type": "code",
   "execution_count": null,
   "metadata": {},
   "outputs": [],
   "source": [
    "plotFsamples1D(agent=opmall, n=200,\n",
    "               predictand='income',\n",
    "               predictor=list(occupation='Exec-managerial',\n",
    "                              sex='Male'),\n",
    "               ylim=c(0,1), main='opmall')"
   ]
  },
  {
   "cell_type": "markdown",
   "metadata": {},
   "source": [
    "it believes with around 55% probability that such a unit would have higher, $\\verb|>50K|$ income. The representative subpopulation-frequency distributions in grey indicate that this belief is unlikely to be changed by new training data.\n",
    "\n",
    "\\\n",
    "\n",
    "Let's now see an example of our agent's versatility by switching predictands and predictors. We tell the `opmall`-agent that the new unit has $\\mathit{income}\\mo\\verb|>50|$, and ask it to infer the joint variate $(\\mathit{occupation} \\and \\mathit{sex})$; let's present the results in rounded percentages:"
   ]
  },
  {
   "cell_type": "code",
   "execution_count": null,
   "metadata": {},
   "outputs": [],
   "source": [
    "result <- infer(agent=opmall,\n",
    "                predictand=c('occupation', 'sex'),\n",
    "                predictor=list(income='>50K'))\n",
    "\n",
    "round(result * 100, 1) # round to one decimal"
   ]
  },
  {
   "cell_type": "markdown",
   "metadata": {},
   "source": [
    "It returns a 14 × 2 table of joint probabilities. The most probable combinations are $(\\verb|Exec-managerial|, \\verb|Male|)$ and $(\\verb|Prof-specialty|, \\verb|Male|)$.\n",
    "\n",
    "### The `rF()` function\n",
    "\n",
    "This function generates **full-population** frequency distributions (even for subpopulations) that are probable according to the data. It is used internally by `plotFsamples1D()`, which plots the generated frequency distributions as [grey lines]{.grey}.\n",
    "\n",
    "Let's see, as an example, three samples of how the full-population frequency distribution for $\\mathit{sex} \\and \\mathit{income}$ (jointly) could be:"
   ]
  },
  {
   "cell_type": "code",
   "execution_count": null,
   "metadata": {},
   "outputs": [],
   "source": [
    "result <- rF(n=3, # number of samples\n",
    "             agent=opmall, \n",
    "             predictand=c('sex', 'income'))\n",
    "\n",
    "## name the samples\n",
    "dimnames(result)[1] <- list(samples=paste0('#',1:3))\n",
    "\n",
    "## permute & print so that samples are the last array dimension\n",
    "print(aperm(result) * 100)"
   ]
  },
  {
   "cell_type": "markdown",
   "metadata": {},
   "source": [
    "These possible full-population frequency distributions can be used to assess how much the probabilities we find could change, if we collected a much, much larger amount of training data. Here is an example:\n",
    "\n",
    "We generate 1000 frequency distributions for $(\\mathit{occupation} \\and \\mathit{sex})$ given $\\mathit{income}\\mo\\verb|>50K|$, and then take the standard deviations of the samples as a rough measure of how much the probabilities we calculated a couple of cells above could change:"
   ]
  },
  {
   "cell_type": "code",
   "execution_count": null,
   "metadata": {},
   "outputs": [],
   "source": [
    "freqsamples <- rF(n=1000,\n",
    "                  agent=opmall,\n",
    "                  predictand=c('occupation', 'sex'),\n",
    "                  predictor=list(income='>50K'))\n",
    "\n",
    "variability <- apply(freqsamples,\n",
    "                     c('occupation','sex'), # which dimensions to apply\n",
    "                     sd) # function to apply to those dimensions\n",
    "\n",
    "round(variability * 100, 2) # round to two decimals"
   ]
  },
  {
   "cell_type": "markdown",
   "metadata": {},
   "source": [
    "the agent believes (at around 68%) that the current probability wouldn't change more than about ±0.5%.\n",
    "\n",
    "\n",
    "\\\n",
    "\n",
    "The inferences above were partially \n",
    "meant as checks, but we see that we can actually ask our agent a wide variety of questions about the full population, and do all sorts of association studies.\n",
    "\n",
    "\n",
    "\n",
    "#### **No \"test\" or \"validation\" datasets used or needed**\n",
    "\n",
    "The tests and explorations above were done without any \"validation\" or \"test\" datasets. This is because our agent is capable of calculating and showing its beliefs about the *full population* -- and therefore about future data.\n",
    "\n",
    "The need for validation or test datasets with common machine-learning algorithms arise from the fact that full-population beliefs are hidden or, more commonly, not computed at all, in order to gain speed. The application of the trained machine-learning algorithm to a validation dataset is an approximate way of extracting such beliefs.\n",
    "\n",
    "\n",
    "\\\n",
    "\n",
    "### Exploring the population properties: mutual information\n",
    "\n",
    "In [§ @sec-entropy-mutualinfo] we introduced [*mutual information*]{.blue} as the information-theoretic measure of mutual relevance and association of two quantities or variates. For the present task, the `opmall`-agent can tell us the mutual information between any two sets of variates of our choice, with the function `mutualinfo()`.\n",
    "\n",
    "For instance, let's calculate the mutual information between $\\mathit{occupation}$ and $\\mathit{marital\\_status}$.\n",
    "\n",
    "First we need the joint probability distribution for both variates, which the agent can calculate with `infer()`:"
   ]
  },
  {
   "cell_type": "code",
   "execution_count": null,
   "metadata": {},
   "outputs": [],
   "source": [
    "probs <- infer(agent=opmall,\n",
    "               predictand=c('occupation', 'marital_status'))"
   ]
  },
  {
   "cell_type": "markdown",
   "metadata": {},
   "source": [
    "This distribution is then used in the formula for the mutual information, implemented in `mutualinfo()`:"
   ]
  },
  {
   "cell_type": "code",
   "execution_count": null,
   "metadata": {},
   "outputs": [],
   "source": [
    "mutualinfo(probs=probs,\n",
    "           A='occupation', B='marital_status')"
   ]
  },
  {
   "cell_type": "markdown",
   "metadata": {},
   "source": [
    "It is a very low association: knowing either variate decreases the effective number of possible values of the other only $2^{0.0827823/mathit{Sh}} \\approx 1.06$ times.\n",
    "\n",
    "Now let's consider a scenario where, in order to save resources, we can use *only one* variate to infer the income. Which of the other variates should we prefer? We can calculate the mutual information between each of them, in turn, and $\\mathit{income}$:"
   ]
  },
  {
   "cell_type": "code",
   "execution_count": null,
   "metadata": {},
   "outputs": [],
   "source": [
    "## list of all variates\n",
    "variates <- names(dimnames(opmall$counts))\n",
    "\n",
    "## list of all variates except 'income'\n",
    "predictors <- variates[variates != 'income']\n",
    "\n",
    "## prepare vector to contain the mutual information\n",
    "relevances <- numeric(length(predictors))\n",
    "names(relevances) <- predictors\n",
    "\n",
    "## calculate, for each variate,\n",
    "## the joint probability distribution 'probs'\n",
    "## and then mutual information 'relevance' (in shannons)\n",
    "## between 'income' and that variate\n",
    "for(var in predictors){\n",
    "    probs <- infer(agent=opmall, predictand=c('income',var))\n",
    "    relevances[var] <- mutualinfo(probs=probs, A='income', B=var)\n",
    "}\n",
    "\n",
    "## output the mutual informations in decreasing order\n",
    "sort(relevances, decreasing=TRUE)"
   ]
  },
  {
   "cell_type": "markdown",
   "metadata": {},
   "source": []
  },
  {
   "cell_type": "markdown",
   "metadata": {},
   "source": [
    "If we had to choose *only one* variate to infer the outcome, on average it would be best to use $\\mathit{marital\\_status}$. Our last choice should be $\\mathit{race}$."
   ]
  },
  {
   "cell_type": "markdown",
   "metadata": {},
   "source": [
    "----\n",
    "\n",
    "## **EXERCISE**\n",
    "\n",
    "Now consider the scenario where we must *exclude one variate* from the eight predictors, or, equivalently, we can only use seven variates as predictors. Which variate should we exclude?\n",
    "\n",
    "Prepare a script similar to the one above: it calculates the mutual information between $\\mathit{income}$ and the other predictors but with one omitted, omitting each of the eight in turn.\n",
    "\n",
    "- Which single variate should not be omitted from the predictors? which single variate could be dropped?\n",
    "- Do you obtain the same relevance ranking as in the \"use-one-variate-only\" scenario above?\n",
    "\n",
    "----"
   ]
  },
  {
   "cell_type": "markdown",
   "metadata": {},
   "source": [
    "## Example application to new data\n",
    "\n",
    "Let's apply the `opmall`-agent to a test dataset with 33 914 new units. For each new unit, the agent:\n",
    "\n",
    "- calculates the probability of $\\mathit{income}\\mo\\verb|<=50|$, via the function `infer()`, using as predictors all variates except $\\mathit{income}$\n",
    "- chooses one of the two values $\\set{\\verb|<=50K|, \\verb|>50K|}$, via the function `decide()`, trying to maximizing utilities corresponding to the accuracy metric\n",
    "\n",
    "At the end we plot a histogram of the probabilities calculated for the new units, to check for instance for how many of the agent was sure (beliefs around 0% or 100%) or unsure (beliefs around 50%). We also report the final utility/accuracy per unit, and the time needed for the computation:"
   ]
  },
  {
   "cell_type": "code",
   "execution_count": null,
   "metadata": {},
   "outputs": [],
   "source": [
    "testdata <- fread('test-income_data_example.csv', header=TRUE) # read test data\n",
    "ntest <- nrow(testdata) # number of test data\n",
    "##\n",
    "testprobs <- numeric(ntest) # prepare vector of probabilities\n",
    "testhits <- numeric(ntest) # prepare vector of hits\n",
    "##\n",
    "stopwatch <- Sys.time() # record time\n",
    "##\n",
    "for(i in 1:ntest){\n",
    "    ## calculate probabilities given all variates except 'income'\n",
    "    probs <- infer(agent=opmall, predictor=testdata[i, !'income'])\n",
    "    ## store the probability for <=50K\n",
    "    testprobs[i] <- probs['<=50K']\n",
    "    ## decide on one value, check if decision == true_value, and store result\n",
    "    chosenvalue <- decide(probs=probs)\n",
    "    testhits[i] <- (chosenvalue == testdata[i, 'income'])\n",
    "}\n",
    "##\n",
    "print(Sys.time() - stopwatch) # print computation time\n",
    "##\n",
    "thist(testprobs, n=seq(0,1,length.out=10), plot=TRUE,\n",
    "      xlab='P(income = \"<=50K\")',\n",
    "      ylab='frequency density in test set',\n",
    "      main=paste0('accuracy: ', round(100*mean(testhits), 1), '%'))"
   ]
  },
  {
   "cell_type": "markdown",
   "metadata": {},
   "source": [
    "----\n",
    "\n",
    "## **EXERCISE**\n",
    "\n",
    "Now try to use a popular machine-learning algorithm for the same task, using the same training data, and compare it with the prototype optimal predictor machine. Examine the differences. For example:\n",
    "\n",
    "- Can you inform the algorithm that $\\mathit{native\\_country}$ has two additional values $\\verb|Norway|$, $\\verb|Netherlands|$ not present in the training data? How?\n",
    "\n",
    "- Can you flexibly use the algorithm to specify any predictors and any predictands on the fly?\n",
    "\n",
    "- Does the algorithm inform you of how the inferences could change if more training data were available?\n",
    "\n",
    "- Which accuracy does the algorithm achieve on the test set?\n",
    "\n",
    "--\n"
   ]
  },
  {
   "cell_type": "code",
   "execution_count": null,
   "metadata": {},
   "outputs": [],
   "source": []
  }
 ],
 "metadata": {
  "kernelspec": {
   "display_name": "R",
   "language": "R",
   "name": "ir"
  },
  "language_info": {
   "codemirror_mode": "r",
   "file_extension": ".r",
   "mimetype": "text/x-r-source",
   "name": "R",
   "pygments_lexer": "r",
   "version": "4.3.2"
  }
 },
 "nbformat": 4,
 "nbformat_minor": 4
}

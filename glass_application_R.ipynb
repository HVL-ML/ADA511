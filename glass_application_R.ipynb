{
  "cells": [
    {
      "cell_type": "raw",
      "metadata": {},
      "source": [
        "---\n",
        "execute:\n",
        "  keep-ipynb: true\n",
        "---"
      ],
      "id": "44e9bef0"
    },
    {
      "cell_type": "markdown",
      "metadata": {},
      "source": [
        "::: {.hidden}\n",
        "<!-- $$\\require{mathtools}$$ -->\n",
        "\n",
        "\\providecommand{\\ul}{\\uline}\n",
        "\\providecommand{\\and}{\\mathbin{\\mkern-0mu,\\mkern-0mu}}\n",
        "\\renewcommand*{\\|}[1][]{\\nonscript\\:#1\\vert\\nonscript\\:\\mathopen{}}\n",
        "\\providecommand*{\\pr}[1]{\\textsf{\\small`#1'}}\n",
        "\\renewcommand*{\\pr}[1]{\\textsf{\\small`#1'}}\n",
        "\\providecommand*{\\prq}[1]{\\textsf{\\small #1}}\n",
        "\\providecommand{\\se}[1]{\\mathsfit{#1}}\n",
        "\\renewcommand{\\se}[1]{\\mathsfit{#1}}\n",
        "\\providecommand{\\cat}[1]{\\texttt{\\small #1}}\n",
        "\\providecommand{\\vec}[1]{\\boldsymbol{#1}}\n",
        "\\providecommand{\\p}{\\mathrm{p}}\n",
        "\\renewcommand{\\p}{\\mathrm{p}}\n",
        "\\renewcommand{\\P}{\\mathrm{P}}\n",
        "\\definecolor{quarto-callout-note-color}{HTML}{4477AA}\n",
        "\\definecolor{quarto-callout-note-color-frame}{HTML}{4477AA}\n",
        "\\definecolor{quarto-callout-important-color}{HTML}{AA3377}\n",
        "\\definecolor{quarto-callout-important-color-frame}{HTML}{AA3377}\n",
        "\\definecolor{quarto-callout-warning-color}{HTML}{EE6677}\n",
        "\\definecolor{quarto-callout-warning-color-frame}{HTML}{EE6677}\n",
        "\\definecolor{quarto-callout-tip-color}{HTML}{228833}\n",
        "\\definecolor{quarto-callout-tip-color-frame}{HTML}{228833}\n",
        "\\definecolor{quarto-callout-caution-color}{HTML}{CCBB44}\n",
        "\\definecolor{quarto-callout-caution-color-frame}{HTML}{CCBB44}\n",
        "\\providecommand*{\\mo}[1][\\textrm{\\small=}]{\\mathrel{\\nonscript\\mkern-2.5mu#1\\nonscript\\mkern-2.5mu}}\n",
        "\\providecommand*{\\yX}{\\se{X}}\n",
        "\\providecommand*{\\yY}{\\se{Y}}\n",
        "\\providecommand*{\\yI}{\\se{I}}\n",
        "\\providecommand*{\\yi}[1][]{\\se{I}_{\\text{#1}}}\n",
        "\\providecommand{\\di}{\\mathrm{d}}\n",
        "\\providecommand{\\defd}{\\coloneqq}\n",
        "\\providecommand{\\blue}{\\color[RGB]{68,119,170}}\n",
        "\\providecommand{\\red}{\\color[RGB]{238,102,119}}\n",
        "\\providecommand{\\purple}{\\color[RGB]{170,51,119}}\n",
        "\\providecommand{\\green}{\\color[RGB]{34,136,51}}\n",
        "\\providecommand{\\yellow}{\\color[RGB]{204,187,68}}\n",
        "\\providecommand{\\lblue}{\\color[RGB]{102,204,238}}\n",
        "\\providecommand{\\grey}{\\color[RGB]{187,187,187}}\n",
        "\\providecommand{\\midgrey}{\\color[RGB]{119,119,119}}\n",
        "\\providecommand{\\black}{\\color[RGB]{0,0,0}}\n",
        "$$\n",
        "\\DeclarePairedDelimiters{\\set}{\\{}{\\}}\n",
        "$$\n",
        "\n",
        "<!-- \\renewcommand*{\\prq}[1]{\\textsf{\\small #1}} -->\n",
        "<!-- \\definecolor{lightblue}{HTML}{66CCEE} -->\n",
        "<!-- \\sethlcolor{lightblue} -->\n",
        "<!-- \\providecommand*{\\moo}[1][=]{\\mathord{\\mkern1.5mu#1\\mkern1.5mu}} -->\n",
        "<!-- \\providecommand*{\\mo}[1][=]{\\mathrel{\\mkern-4mu#1\\mkern-4mu}} -->\n",
        "<!-- \\providecommand*{\\mo}[1][\\textrm{\\small=}]{\\mathord{\\mkern1.5mu#1\\mkern1.5mu}} -->\n",
        "\n",
        ":::\n",
        "\n",
        "::: {.hidden}\n",
        "\\providecommand*{\\yy}{\\cat{Y}}\n",
        "\\providecommand*{\\yn}{\\cat{N}}\n",
        "\\providecommand{\\vRI}{\\mathit{RI}}\n",
        "\\providecommand{\\vNa}{\\mathit{Na}}\n",
        "\\providecommand{\\vMg}{\\mathit{Mg}}\n",
        "\\providecommand{\\vAl}{\\mathit{Al}}\n",
        "\\providecommand{\\vSi}{\\mathit{Si}}\n",
        "\\providecommand{\\vK}{\\mathit{K}}\n",
        "\\providecommand{\\vCa}{\\mathit{Ca}}\n",
        "\\providecommand{\\vBa}{\\mathit{Ba}}\n",
        "\\providecommand{\\vFe}{\\mathit{Fe}}\n",
        "\\providecommand{\\vType}{\\mathit{Type}}\n",
        "\n",
        ":::\n",
        "\n",
        "\n",
        "\n",
        "[First let's load some libraries and functions that we shall use in this example:]{.small}\n"
      ],
      "id": "ee630513"
    },
    {
      "cell_type": "code",
      "metadata": {},
      "source": [
        "source('code/universal_exch-inference_machine.R')"
      ],
      "id": "539c2308",
      "execution_count": null,
      "outputs": []
    },
    {
      "cell_type": "code",
      "metadata": {},
      "source": [
        "#| echo: false\n",
        "options(repr.plot.width=6*sqrt(2), repr.plot.height=6)"
      ],
      "id": "3cd71326",
      "execution_count": null,
      "outputs": []
    },
    {
      "cell_type": "markdown",
      "metadata": {},
      "source": [
        "# The universal exchangeable-inference machine in action\n",
        "\n",
        "## Example population and data\n",
        "\n",
        "Consider the following population, which we consider to be exchangeable:\n",
        "\n",
        "- [*Units*: glass fragments collected at particularly defined crime scenes.]{.small}\n",
        "\n",
        "- [*Variates*:]{.small}\n",
        "    + [$\\vRI$, ordinal, domain $\\set{1,\\dotsc,5}$: Refractive Index of the fragment]{.small}\n",
        "    + [$\\vNa$, ordinal, domain $\\set{1,\\dotsc,5}$: Natrium content of the fragment]{.small}\n",
        "    + [$\\vMg$, ordinal, domain $\\set{1,\\dotsc,5}$: Magnesium content of the fragment]{.small}\n",
        "    + [$\\vAl$, ordinal, domain $\\set{1,\\dotsc,5}$: Aluminium content of the fragment]{.small}\n",
        "    + [$\\vSi$, ordinal, domain $\\set{1,\\dotsc,5}$: Silicon content of the fragment]{.small}\n",
        "    + [$\\vK$, ordinal, domain $\\set{1,\\dotsc,5}$: Potassium content of the fragment]{.small}\n",
        "    + [$\\vCa$, ordinal, domain $\\set{1,\\dotsc,5}$: Calcium content of the fragment]{.small}\n",
        "    + [$\\vBa$, ordinal, domain $\\set{1,\\dotsc,5}$: Barium content of the fragment]{.small}\n",
        "    + [$\\vFe$, ordinal, domain $\\set{1,\\dotsc,5}$: Iron content of the fragment]{.small}\n",
        "\t+ [$\\vType$, nominal, domain $\\set{\\cat{T1},\\dots,\\cat{T7}}$: Type or origin of the glass fragment]{.small}\n",
        "\t\n",
        "\t[The values for the $\\vRI$ and content variates represent ranges of numeric values or percentages, which you can find in [this metadata file](datasets/glass_metadata-5_lev.csv). In the same file you also find the description of the glass types.]{.small}\n",
        "\n",
        "We have a sample of 214 units from this population; their variate values are stored in [this data file](datasets/glass_data-5_lev.csv). Here are the first five units:\n"
      ],
      "id": "9378d84b"
    },
    {
      "cell_type": "code",
      "metadata": {},
      "source": [
        "#| fig-cap: \"Glimpse of the glass-fragment dataset\"\n",
        "head(fread('datasets/glass_data-5_lev.csv'), 5)"
      ],
      "id": "59d0a508",
      "execution_count": null,
      "outputs": []
    },
    {
      "cell_type": "markdown",
      "metadata": {},
      "source": [
        "\\\n",
        "\n",
        "Now we imagine to prepare an agent for drawing inferences about the full population of glass fragments -- which also means fragments from *future* or *unsolved* crime scenes. The agent uses -- or is the embodiment of -- the universal exchangeable-inference machine.\n",
        "\n",
        "## The agent's initial state of knowledge\n",
        "\n",
        "### Load the machine's apparatus\n",
        "\n",
        "We load several `R` functions that implement the universal machine: they draw inferences, calculate marginal and conditional probabilities, and plot probability distributions:\n"
      ],
      "id": "b02644d2"
    },
    {
      "cell_type": "code",
      "metadata": {},
      "source": [
        "source('code/universal_exch-inference_machine.R')"
      ],
      "id": "07491d6c",
      "execution_count": null,
      "outputs": []
    },
    {
      "cell_type": "markdown",
      "metadata": {},
      "source": [
        "### Learning the background information\n",
        "\n",
        "\n",
        "Our agent at the moment doesn't know anything at all, not even about the existence of the population above. If we were to ask it anything, we would just get a blank stare back.\n",
        "\n",
        "Let us give it the basic background information about the population: the variates' names and domains. We do this through the function `finfo()`: it has a `data` argument, which we omit for the moment, and a `metadata` argument. The latter can simply be the name of the file containing the metadata (NB: this file must have a specific format):\n"
      ],
      "id": "798b800a"
    },
    {
      "cell_type": "code",
      "metadata": {},
      "source": [
        "priorknowledge <- finfo(metadata='datasets/glass_metadata-5_lev.csv')"
      ],
      "id": "5e680530",
      "execution_count": null,
      "outputs": []
    },
    {
      "cell_type": "markdown",
      "metadata": {},
      "source": [
        "The agent now possesses this basic background knowlege, encoded in the `priorknowledge` object. The encoding uses a particular mathematical representation which, however, is of no interest to us^[If you're curious you can have a glimpse at it with the command `str(priorknowledge)`, which displays structural information about an object.]. Other representations could also be used, but the knowledge would be the same. Think of this as encoding an image into a `png` or other lossless format: the representation of the image would be different, but the image would be the same.\n",
        "\n",
        "\n",
        "### Preliminary inferences about the population\n",
        "\n",
        "Now the agent knows about the population, variates, and domains. But it has not seen any data, that is, the variate values for some units. Yet we can ask it some questions and to draw some inferences. Remember that *the answer to a question* is not just a value: it *is the collection of all possible values, with a probability assigned to each*. If the actual value is known, then it will have probability `1`, and all others probability `0`.\n",
        "\n",
        "Let's ask the agent: what is the marginal frequency distribution for the variate $\\vType$, in the *full* (infinite!) population? Obviously the agent doesn't know what the actual distribution is, nor do we. It will calculate a probability distribution over all possible marginal frequency distributions.\n",
        "\n",
        "This probability distribution for the $\\vType$ variate is calculated by the function `fmarginal()`. It has arguments `finfo`: the agent's information; and `variates`: the names of the variates of which we want the marginal frequencies:\n"
      ],
      "id": "a221ce99"
    },
    {
      "cell_type": "code",
      "metadata": {},
      "source": [
        "priorknowledge_type <- fmarginal(finfo=priorknowledge, variates='Type')"
      ],
      "id": "5747da74",
      "execution_count": null,
      "outputs": []
    },
    {
      "cell_type": "markdown",
      "metadata": {},
      "source": [
        "The answer is stored in the object `priorknowledge_type`, which now contains only information pertinent to the $\\vType$ variate.\n",
        "\n",
        "We would like to visualize this probability distribution over marginal frequency distributions. A complication is that we would need infinite dimensions to visualize this faithfully. One approximate way to represent this probability distribution is by showing, say, 100 representative samples from it. The idea is the same as for a scatter plot ([§ @sec-represent-probs]). In this case we would then have 100 different frequency distributions for the variate $\\vType$.\n",
        "\n",
        "The function `plotsamples1D()` does this kind of visual representation. It has arguments `finfo`: the object encoding the probability distribution; `n` (default 100): the number of samples to show; and `predict`, which for the moment we set to `FALSE` and discuss in a moment.\n",
        "\n",
        "How do you think this probability distribution will look like? what kind of marginal frequencies we do expect in the full population?\n"
      ],
      "id": "46e063ad"
    },
    {
      "cell_type": "code",
      "metadata": {},
      "source": [
        "plotsamples1D(finfo=priorknowledge_type, n=100, predict=FALSE)"
      ],
      "id": "2e16b4df",
      "execution_count": null,
      "outputs": []
    },
    {
      "cell_type": "markdown",
      "metadata": {},
      "source": [
        "You see that anything goes: Some frequency distributions give frequency almost `1` to a specific value, and almost `0` to the others. Other frequency distributions spread out the frequencies more evenly, with some peaks here or there.\n",
        "\n",
        "This is a meaningful answer, because the agent hasn't seen any data. From its point of view, everything is possible in this population.\n",
        "\n",
        "@@ TODO: add representation as quantiles\n",
        "\n",
        "### Preliminary inferences about units\n",
        "\n",
        "Up to now the agent has drawn an inference regarding the full population, not regarding any specific unit. Now let's ask it: what will be the value of the $\\vType$ variate in the next unit, or glass fragment, we observe? As usual, an answer consists in a probability distribution over all possible values.\n",
        "\n",
        ":::{.callout-caution}\n",
        "## {{< fa user-edit >}} Exercise\n",
        "Before continuing, ask yourself the same question: which probabilities would you give to the $\\vType$ values for the next unit, given that you only know that this quantity has seven possible values?\n",
        ":::\n",
        "\n",
        "The agent's answer this time is a probability distribution over seven values, which we can draw faithfully. The function `plotsamples1D()` can draw this probability as well, if we give the argument `predict=TRUE` (default):\n"
      ],
      "id": "0f0dd004"
    },
    {
      "cell_type": "code",
      "metadata": {},
      "source": [
        "plotsamples1D(finfo=priorknowledge_type)"
      ],
      "id": "c8bde5c1",
      "execution_count": null,
      "outputs": []
    },
    {
      "cell_type": "markdown",
      "metadata": {},
      "source": [
        "This plot shows the [probability distribution]{.blue} for the next unit in [blue]{.blue}, together with a sample of 100 possible frequency distributions for the $\\vType$ variate over the full population. Note that samples are drawn anew every time, so they can look somewhat differently from time to time.^[To have reproducible plots, use `set.seed(314)` (or any integer you like) before calling the plot function.]\n",
        "\n",
        "The agent's answer is that in the next unit we can observe any $\\vType$ value with equal probability. Do you think this is a reasonable answer?\n",
        "\n",
        "The plot above and the information it represents are very useful for inference purposes: not only they give the probability for the next observation, but also an idea of how such a probability could change in the future, as more data are collected and knowledge of the population's frequency distribution becomes more precise.\n",
        "\n",
        ":::{.callout-caution}\n",
        "## {{< fa user-edit >}} Exercise\n",
        "Inspect the agent's inferences for other variates.\n",
        ":::\n",
        "\n",
        "\n",
        "## The agent learns from data\n",
        "\n",
        "### Learning from the sample data\n",
        "\n",
        "Now let's give the agent the data from the sample of 214 glass fragments. This is done again with the `finfo()` function, but providing the `data` argument, which can be the name of the data file:\n"
      ],
      "id": "cc0fdde7"
    },
    {
      "cell_type": "code",
      "metadata": {},
      "source": [
        "postknowledge <- finfo(data='datasets/glass_data-5_lev.csv', metadata='datasets/glass_metadata-5_lev.csv')"
      ],
      "id": "e9a2a52a",
      "execution_count": null,
      "outputs": []
    },
    {
      "cell_type": "markdown",
      "metadata": {},
      "source": [
        "The `postknowledge` object contains the agent's knowledge from the metadata and the sample data. This object can be used in the same way as the object representing the agent's background knowledge.\n",
        "\n",
        "### Inferences about the population\n",
        "\n",
        "Now that the agent has learned from the data, we can ask it again what is the marginal frequency distribution for the variate $\\vType$, in the full population.\n",
        "\n",
        "We calculate the probability for the possible marginal frequency distributions, and then plot it as a set of 100 representative samples:\n"
      ],
      "id": "99eec539"
    },
    {
      "cell_type": "code",
      "metadata": {},
      "source": [
        "postknowledge_type <- fmarginal(finfo=postknowledge, variates='Type')\n",
        "\n",
        "plotsamples1D(finfo=postknowledge_type, predict=FALSE)"
      ],
      "id": "96f71c19",
      "execution_count": null,
      "outputs": []
    },
    {
      "cell_type": "markdown",
      "metadata": {},
      "source": [
        "This plot shows two important aspects of this probability distribution and of the agent's current state of knowledge:\n",
        "\n",
        "- Not anything goes anymore. Some frequency distributions are clearly \"excluded\", or more precisely they are *extremely* improbable. The most probable frequency distributions have a maximum at the $\\cat{T2}$ value, another lower peak for the value $\\cat{T4}$, and several other qualitative features that can be glimpsed from the plot.\n",
        "\n",
        "- Yet, the agent still has a degree of uncertainty, qualitatively shown by the width of the \"bands\" of frequency distributions. For example, the frequency for the $\\cat{T2}$ value could be $0.40$ as well as $0.30$\n",
        "\n",
        "And there are other more specific aspects that can be found by visual inspection. For instance:\n",
        "\n",
        "- Some frequency distributions have their absolute maximum at $\\cat{T1}$, and a lower frequency at $\\cat{T2}$. Others have their absolute maximum at $\\cat{T2}$ and a lower value at $\\cat{T1}$. So there's still uncertainty as to which value is the most frequent in the full population.\n",
        "\n",
        "- The agent gives a very small but non-zero frequency to the value $\\cat{T7}$. Yet, the data **have no units at all with the $\\cat{T7}$ value**. Even if the agent has never seen this value in the data it was given, it knows nevertheless, from the metadata, that this is a possible value. So the agent doesn't dogmatically say that its frequency in the full population should be zero (as in the sample); only that it should be extremely low.\n",
        "\n",
        ":::{.callout-caution}\n",
        "## {{< fa user-edit >}} Exercise\n",
        "Given that the value $\\cat{T7}$ has not been observed in 214 units, what approximate upper bound to its frequency would you give? Does the agent inference agree with your intuition?\n",
        ":::\n",
        "\n",
        "### Inferences about units\n",
        "\n",
        "Finally we ask the agent what $\\vType$ value we should observe in the next glass fragment. The probability distribution answering this question is plotted by the same function with the argument `predict=TRUE` (default), as before:\n"
      ],
      "id": "50dc2330"
    },
    {
      "cell_type": "code",
      "metadata": {},
      "source": [
        "plotsamples1D(finfo=postknowledge_type)"
      ],
      "id": "9b4c4b88",
      "execution_count": null,
      "outputs": []
    },
    {
      "cell_type": "markdown",
      "metadata": {},
      "source": [
        "## Conditional, \"discriminative\" or \"supervised-learning\" inferences\n",
        "\n",
        "The inferences about a new units that the agent has made so far were of an \"unsupervised-learning\" or \"generative\" kind ([§ sec-2nd-connection-ML]): the agent did not receive or use any partial information about a new unit. Let's now try a \"supervised-learning\" or \"generative\" kind of inference.\n",
        "\n",
        "Imagine that we are at a new crime scene, a glass fragment is recovered, and tests are made about its refractive index and chemical composition. The following values are found, referred to the levels of our variates:\n",
        "\n",
        ":::{.column-margin}\n",
        "![](glass_crimescene.jpg){width=100%}\n",
        ":::\n"
      ],
      "id": "afae8c94"
    },
    {
      "cell_type": "code",
      "metadata": {},
      "source": [
        "newfragment <- c(RI=2, Na=2,  Mg=4,  Al=3,  Si=3,  K=1, Ca=2,  Ba=1,  Fe=1)"
      ],
      "id": "c502913d",
      "execution_count": null,
      "outputs": []
    },
    {
      "cell_type": "markdown",
      "metadata": {},
      "source": [
        "The detectives would like to know what's the possible origin of this fragment, that is, its $\\vType$. Our agent can draw this inference.\n",
        "\n",
        "First, the agent can calculate the probability distribution over the *conditional frequencies* ([§ @sec-conditional-freqs]) of the $\\vType$ values for the subpopulation ([§ @sec-subpopulations]) of units having the specific variate values above. This calculation is done with the function `fconditional()`, with arguments `finfo`: the agent's current knowledge, and `unitdata`: the partial data obtained from the unit.\n"
      ],
      "id": "846b45de"
    },
    {
      "cell_type": "code",
      "metadata": {},
      "source": [
        "condknowledge <- fconditional(finfo=postknowledge, unitdata=newfragment)\n",
        "condknowledge_type <- fmarginal(finfo=condknowledge, variates='Type')"
      ],
      "id": "85e00a1b",
      "execution_count": null,
      "outputs": []
    },
    {
      "cell_type": "markdown",
      "metadata": {},
      "source": [
        "The `condknowledge` object contains the agent's knowledge conditional on the variates given; this knowledge is about the remaining variates, which in this case are the single variate $\\vType$ (so the `fmarginal()` calculation is actually redundant in this case).\n",
        "\n",
        "Second, the agent can calculate the probability distribution for the $\\vType$ values of this particular glass fragment, given the above information.\n",
        "\n",
        "Both inferences can be visualized in the usual way:\n"
      ],
      "id": "59f53aa8"
    },
    {
      "cell_type": "code",
      "metadata": {},
      "source": [
        "plotsamples1D(finfo=condknowledge_type)"
      ],
      "id": "5b526685",
      "execution_count": null,
      "outputs": []
    },
    {
      "cell_type": "markdown",
      "metadata": {},
      "source": [
        "The agent thus gives a probability around $87.5\\%$ to the fragment's being of $\\cat{T2}$ type, and around $7.5\\%$ each of being $\\cat{T1}$ or $\\cat{T6}$ type. It also shows that further training data could change these probabilities by around $\\pm 2.5\\%$.\n",
        "\n",
        "Should the crime investigation proceed on the assumption that the fragment is of $\\cat{T2}$ type? No, not necessarily. The best decision depends on the gains and costs involved in making correct or wrong assumptions. To this last decision-making problem we turn next.\n",
        "\n",
        ":::{.callout-caution}\n",
        "## {{< fa user-edit >}} Exercise\n",
        "- Perform the \"discriminative\" inferences above, but omitting from the `newfragment` data *one* variate in turn; so first omit only $\\vRI$ and do the inferences, then omit only $\\vNa$ and do the inferences, and so on.\n",
        "\n",
        "- In each of these inferences you will find that the agent becomes more ore less \"confident\" about the fragment type. Which of the variates above seem to be most important for making a confident inference?\n",
        ":::\n"
      ],
      "id": "cc492bb5"
    }
  ],
  "metadata": {
    "kernelspec": {
      "name": "ir",
      "language": "R",
      "display_name": "R"
    }
  },
  "nbformat": 4,
  "nbformat_minor": 5
}